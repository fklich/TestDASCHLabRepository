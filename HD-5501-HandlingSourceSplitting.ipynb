{
 "cells": [
  {
   "cell_type": "markdown",
   "id": "e40c18d5-e4e9-49ca-b3f5-faab7d3f1aaf",
   "metadata": {},
   "source": [
    "# daschlab Tutorial: Handling Source Splitting in HD 5501\n",
    "\n",
    "HD 5501 is a 9th-mag eclipsing binary with a period of around 7.5 days. In DASCH's APASS calibration, it is subject to\n",
    "the [\"source splitting\" Known Issue][sski], which causes its data to be split among several different raw lightcurves.\n",
    "This notebook demonstrates how to merge the split data.\n",
    "\n",
    "[sski]: https://dasch.cfa.harvard.edu/drnext/ki/source-splitting/\n",
    "\n",
    "---\n",
    "\n",
    "## **Important:** Non-introductory tutorial\n",
    "\n",
    "*daschlab* is **interactive** software and it's very difficult to express some of the key steps in writing.\n",
    "\n",
    "#### **If you're unfamiliar with *daschlab*,** complete [the RY Cnc introductory tutorial][rycnc] before undertaking this one.\n",
    "\n",
    "[rycnc]: https://dasch.cfa.harvard.edu/drnext/rycnc/"
   ]
  },
  {
   "cell_type": "markdown",
   "id": "41e26299-8a75-4ba8-8c67-a6186e6c542e",
   "metadata": {},
   "source": [
    "---\n",
    "\n",
    "## Preliminaries\n",
    "\n",
    "Here we'll do some standard imports."
   ]
  },
  {
   "cell_type": "code",
   "execution_count": 1,
   "id": "9ce5c4bf-673c-49e0-b591-bcce10cf9595",
   "metadata": {},
   "outputs": [
    {
     "data": {
      "text/html": [
       "    <style>\n",
       "        .bk-notebook-logo {\n",
       "            display: block;\n",
       "            width: 20px;\n",
       "            height: 20px;\n",
       "            background-image: url(data:image/png;base64,iVBORw0KGgoAAAANSUhEUgAAABQAAAAUCAYAAACNiR0NAAAABHNCSVQICAgIfAhkiAAAAAlwSFlzAAALEgAACxIB0t1+/AAAABx0RVh0U29mdHdhcmUAQWRvYmUgRmlyZXdvcmtzIENTNui8sowAAAOkSURBVDiNjZRtaJVlGMd/1/08zzln5zjP1LWcU9N0NkN8m2CYjpgQYQXqSs0I84OLIC0hkEKoPtiH3gmKoiJDU7QpLgoLjLIQCpEsNJ1vqUOdO7ppbuec5+V+rj4ctwzd8IIbbi6u+8f1539dt3A78eXC7QizUF7gyV1fD1Yqg4JWz84yffhm0qkFqBogB9rM8tZdtwVsPUhWhGcFJngGeWrPzHm5oaMmkfEg1usvLFyc8jLRqDOMru7AyC8saQr7GG7f5fvDeH7Ej8CM66nIF+8yngt6HWaKh7k49Soy9nXurCi1o3qUbS3zWfrYeQDTB/Qj6kX6Ybhw4B+bOYoLKCC9H3Nu/leUTZ1JdRWkkn2ldcCamzrcf47KKXdAJllSlxAOkRgyHsGC/zRday5Qld9DyoM4/q/rUoy/CXh3jzOu3bHUVZeU+DEn8FInkPBFlu3+nW3Nw0mk6vCDiWg8CeJaxEwuHS3+z5RgY+YBR6V1Z1nxSOfoaPa4LASWxxdNp+VWTk7+4vzaou8v8PN+xo+KY2xsw6une2frhw05CTYOmQvsEhjhWjn0bmXPjpE1+kplmmkP3suftwTubK9Vq22qKmrBhpY4jvd5afdRA3wGjFAgcnTK2s4hY0/GPNIb0nErGMCRxWOOX64Z8RAC4oCXdklmEvcL8o0BfkNK4lUg9HTl+oPlQxdNo3Mg4Nv175e/1LDGzZen30MEjRUtmXSfiTVu1kK8W4txyV6BMKlbgk3lMwYCiusNy9fVfvvwMxv8Ynl6vxoByANLTWplvuj/nF9m2+PDtt1eiHPBr1oIfhCChQMBw6Aw0UulqTKZdfVvfG7VcfIqLG9bcldL/+pdWTLxLUy8Qq38heUIjh4XlzZxzQm19lLFlr8vdQ97rjZVOLf8nclzckbcD4wxXMidpX30sFd37Fv/GtwwhzhxGVAprjbg0gCAEeIgwCZyTV2Z1REEW8O4py0wsjeloKoMr6iCY6dP92H6Vw/oTyICIthibxjm/DfN9lVz8IqtqKYLUXfoKVMVQVVJOElGjrnnUt9T9wbgp8AyYKaGlqingHZU/uG2NTZSVqwHQTWkx9hxjkpWDaCg6Ckj5qebgBVbT3V3NNXMSiWSDdGV3hrtzla7J+duwPOToIg42ChPQOQjspnSlp1V+Gjdged7+8UN5CRAV7a5EdFNwCjEaBR27b3W890TE7g24NAP/mMDXRWrGoFPQI9ls/MWO2dWFAar/xcOIImbbpA3zgAAAABJRU5ErkJggg==);\n",
       "        }\n",
       "    </style>\n",
       "    <div>\n",
       "        <a href=\"https://bokeh.org\" target=\"_blank\" class=\"bk-notebook-logo\"></a>\n",
       "        <span id=\"aaa1fde3-33a8-4e02-9050-9eab336a5884\">Loading BokehJS ...</span>\n",
       "    </div>\n"
      ]
     },
     "metadata": {},
     "output_type": "display_data"
    },
    {
     "data": {
      "application/javascript": "'use strict';\n(function(root) {\n  function now() {\n    return new Date();\n  }\n\n  const force = true;\n\n  if (typeof root._bokeh_onload_callbacks === \"undefined\" || force === true) {\n    root._bokeh_onload_callbacks = [];\n    root._bokeh_is_loading = undefined;\n  }\n\nconst JS_MIME_TYPE = 'application/javascript';\n  const HTML_MIME_TYPE = 'text/html';\n  const EXEC_MIME_TYPE = 'application/vnd.bokehjs_exec.v0+json';\n  const CLASS_NAME = 'output_bokeh rendered_html';\n\n  /**\n   * Render data to the DOM node\n   */\n  function render(props, node) {\n    const script = document.createElement(\"script\");\n    node.appendChild(script);\n  }\n\n  /**\n   * Handle when an output is cleared or removed\n   */\n  function handleClearOutput(event, handle) {\n    function drop(id) {\n      const view = Bokeh.index.get_by_id(id)\n      if (view != null) {\n        view.model.document.clear()\n        Bokeh.index.delete(view)\n      }\n    }\n\n    const cell = handle.cell;\n\n    const id = cell.output_area._bokeh_element_id;\n    const server_id = cell.output_area._bokeh_server_id;\n\n    // Clean up Bokeh references\n    if (id != null) {\n      drop(id)\n    }\n\n    if (server_id !== undefined) {\n      // Clean up Bokeh references\n      const cmd_clean = \"from bokeh.io.state import curstate; print(curstate().uuid_to_server['\" + server_id + \"'].get_sessions()[0].document.roots[0]._id)\";\n      cell.notebook.kernel.execute(cmd_clean, {\n        iopub: {\n          output: function(msg) {\n            const id = msg.content.text.trim()\n            drop(id)\n          }\n        }\n      });\n      // Destroy server and session\n      const cmd_destroy = \"import bokeh.io.notebook as ion; ion.destroy_server('\" + server_id + \"')\";\n      cell.notebook.kernel.execute(cmd_destroy);\n    }\n  }\n\n  /**\n   * Handle when a new output is added\n   */\n  function handleAddOutput(event, handle) {\n    const output_area = handle.output_area;\n    const output = handle.output;\n\n    // limit handleAddOutput to display_data with EXEC_MIME_TYPE content only\n    if ((output.output_type != \"display_data\") || (!Object.prototype.hasOwnProperty.call(output.data, EXEC_MIME_TYPE))) {\n      return\n    }\n\n    const toinsert = output_area.element.find(\".\" + CLASS_NAME.split(' ')[0]);\n\n    if (output.metadata[EXEC_MIME_TYPE][\"id\"] !== undefined) {\n      toinsert[toinsert.length - 1].firstChild.textContent = output.data[JS_MIME_TYPE];\n      // store reference to embed id on output_area\n      output_area._bokeh_element_id = output.metadata[EXEC_MIME_TYPE][\"id\"];\n    }\n    if (output.metadata[EXEC_MIME_TYPE][\"server_id\"] !== undefined) {\n      const bk_div = document.createElement(\"div\");\n      bk_div.innerHTML = output.data[HTML_MIME_TYPE];\n      const script_attrs = bk_div.children[0].attributes;\n      for (let i = 0; i < script_attrs.length; i++) {\n        toinsert[toinsert.length - 1].firstChild.setAttribute(script_attrs[i].name, script_attrs[i].value);\n        toinsert[toinsert.length - 1].firstChild.textContent = bk_div.children[0].textContent\n      }\n      // store reference to server id on output_area\n      output_area._bokeh_server_id = output.metadata[EXEC_MIME_TYPE][\"server_id\"];\n    }\n  }\n\n  function register_renderer(events, OutputArea) {\n\n    function append_mime(data, metadata, element) {\n      // create a DOM node to render to\n      const toinsert = this.create_output_subarea(\n        metadata,\n        CLASS_NAME,\n        EXEC_MIME_TYPE\n      );\n      this.keyboard_manager.register_events(toinsert);\n      // Render to node\n      const props = {data: data, metadata: metadata[EXEC_MIME_TYPE]};\n      render(props, toinsert[toinsert.length - 1]);\n      element.append(toinsert);\n      return toinsert\n    }\n\n    /* Handle when an output is cleared or removed */\n    events.on('clear_output.CodeCell', handleClearOutput);\n    events.on('delete.Cell', handleClearOutput);\n\n    /* Handle when a new output is added */\n    events.on('output_added.OutputArea', handleAddOutput);\n\n    /**\n     * Register the mime type and append_mime function with output_area\n     */\n    OutputArea.prototype.register_mime_type(EXEC_MIME_TYPE, append_mime, {\n      /* Is output safe? */\n      safe: true,\n      /* Index of renderer in `output_area.display_order` */\n      index: 0\n    });\n  }\n\n  // register the mime type if in Jupyter Notebook environment and previously unregistered\n  if (root.Jupyter !== undefined) {\n    const events = require('base/js/events');\n    const OutputArea = require('notebook/js/outputarea').OutputArea;\n\n    if (OutputArea.prototype.mime_types().indexOf(EXEC_MIME_TYPE) == -1) {\n      register_renderer(events, OutputArea);\n    }\n  }\n  if (typeof (root._bokeh_timeout) === \"undefined\" || force === true) {\n    root._bokeh_timeout = Date.now() + 5000;\n    root._bokeh_failed_load = false;\n  }\n\n  const NB_LOAD_WARNING = {'data': {'text/html':\n     \"<div style='background-color: #fdd'>\\n\"+\n     \"<p>\\n\"+\n     \"BokehJS does not appear to have successfully loaded. If loading BokehJS from CDN, this \\n\"+\n     \"may be due to a slow or bad network connection. Possible fixes:\\n\"+\n     \"</p>\\n\"+\n     \"<ul>\\n\"+\n     \"<li>re-rerun `output_notebook()` to attempt to load from CDN again, or</li>\\n\"+\n     \"<li>use INLINE resources instead, as so:</li>\\n\"+\n     \"</ul>\\n\"+\n     \"<code>\\n\"+\n     \"from bokeh.resources import INLINE\\n\"+\n     \"output_notebook(resources=INLINE)\\n\"+\n     \"</code>\\n\"+\n     \"</div>\"}};\n\n  function display_loaded(error = null) {\n    const el = document.getElementById(\"aaa1fde3-33a8-4e02-9050-9eab336a5884\");\n    if (el != null) {\n      const html = (() => {\n        if (typeof root.Bokeh === \"undefined\") {\n          if (error == null) {\n            return \"BokehJS is loading ...\";\n          } else {\n            return \"BokehJS failed to load.\";\n          }\n        } else {\n          const prefix = `BokehJS ${root.Bokeh.version}`;\n          if (error == null) {\n            return `${prefix} successfully loaded.`;\n          } else {\n            return `${prefix} <b>encountered errors</b> while loading and may not function as expected.`;\n          }\n        }\n      })();\n      el.innerHTML = html;\n\n      if (error != null) {\n        const wrapper = document.createElement(\"div\");\n        wrapper.style.overflow = \"auto\";\n        wrapper.style.height = \"5em\";\n        wrapper.style.resize = \"vertical\";\n        const content = document.createElement(\"div\");\n        content.style.fontFamily = \"monospace\";\n        content.style.whiteSpace = \"pre-wrap\";\n        content.style.backgroundColor = \"rgb(255, 221, 221)\";\n        content.textContent = error.stack ?? error.toString();\n        wrapper.append(content);\n        el.append(wrapper);\n      }\n    } else if (Date.now() < root._bokeh_timeout) {\n      setTimeout(() => display_loaded(error), 100);\n    }\n  }\n\n  function run_callbacks() {\n    try {\n      root._bokeh_onload_callbacks.forEach(function(callback) {\n        if (callback != null)\n          callback();\n      });\n    } finally {\n      delete root._bokeh_onload_callbacks\n    }\n    console.debug(\"Bokeh: all callbacks have finished\");\n  }\n\n  function load_libs(css_urls, js_urls, callback) {\n    if (css_urls == null) css_urls = [];\n    if (js_urls == null) js_urls = [];\n\n    root._bokeh_onload_callbacks.push(callback);\n    if (root._bokeh_is_loading > 0) {\n      console.debug(\"Bokeh: BokehJS is being loaded, scheduling callback at\", now());\n      return null;\n    }\n    if (js_urls == null || js_urls.length === 0) {\n      run_callbacks();\n      return null;\n    }\n    console.debug(\"Bokeh: BokehJS not loaded, scheduling load and callback at\", now());\n    root._bokeh_is_loading = css_urls.length + js_urls.length;\n\n    function on_load() {\n      root._bokeh_is_loading--;\n      if (root._bokeh_is_loading === 0) {\n        console.debug(\"Bokeh: all BokehJS libraries/stylesheets loaded\");\n        run_callbacks()\n      }\n    }\n\n    function on_error(url) {\n      console.error(\"failed to load \" + url);\n    }\n\n    for (let i = 0; i < css_urls.length; i++) {\n      const url = css_urls[i];\n      const element = document.createElement(\"link\");\n      element.onload = on_load;\n      element.onerror = on_error.bind(null, url);\n      element.rel = \"stylesheet\";\n      element.type = \"text/css\";\n      element.href = url;\n      console.debug(\"Bokeh: injecting link tag for BokehJS stylesheet: \", url);\n      document.body.appendChild(element);\n    }\n\n    for (let i = 0; i < js_urls.length; i++) {\n      const url = js_urls[i];\n      const element = document.createElement('script');\n      element.onload = on_load;\n      element.onerror = on_error.bind(null, url);\n      element.async = false;\n      element.src = url;\n      console.debug(\"Bokeh: injecting script tag for BokehJS library: \", url);\n      document.head.appendChild(element);\n    }\n  };\n\n  function inject_raw_css(css) {\n    const element = document.createElement(\"style\");\n    element.appendChild(document.createTextNode(css));\n    document.body.appendChild(element);\n  }\n\n  const js_urls = [\"https://cdn.bokeh.org/bokeh/release/bokeh-3.6.0.min.js\", \"https://cdn.bokeh.org/bokeh/release/bokeh-gl-3.6.0.min.js\", \"https://cdn.bokeh.org/bokeh/release/bokeh-widgets-3.6.0.min.js\", \"https://cdn.bokeh.org/bokeh/release/bokeh-tables-3.6.0.min.js\", \"https://cdn.bokeh.org/bokeh/release/bokeh-mathjax-3.6.0.min.js\"];\n  const css_urls = [];\n\n  const inline_js = [    function(Bokeh) {\n      Bokeh.set_log_level(\"info\");\n    },\nfunction(Bokeh) {\n    }\n  ];\n\n  function run_inline_js() {\n    if (root.Bokeh !== undefined || force === true) {\n      try {\n            for (let i = 0; i < inline_js.length; i++) {\n      inline_js[i].call(root, root.Bokeh);\n    }\n\n      } catch (error) {display_loaded(error);throw error;\n      }if (force === true) {\n        display_loaded();\n      }} else if (Date.now() < root._bokeh_timeout) {\n      setTimeout(run_inline_js, 100);\n    } else if (!root._bokeh_failed_load) {\n      console.log(\"Bokeh: BokehJS failed to load within specified timeout.\");\n      root._bokeh_failed_load = true;\n    } else if (force !== true) {\n      const cell = $(document.getElementById(\"aaa1fde3-33a8-4e02-9050-9eab336a5884\")).parents('.cell').data().cell;\n      cell.output_area.append_execute_result(NB_LOAD_WARNING)\n    }\n  }\n\n  if (root._bokeh_is_loading === 0) {\n    console.debug(\"Bokeh: BokehJS loaded, going straight to plotting\");\n    run_inline_js();\n  } else {\n    load_libs(css_urls, js_urls, function() {\n      console.debug(\"Bokeh: BokehJS plotting callback run at\", now());\n      run_inline_js();\n    });\n  }\n}(window));",
      "application/vnd.bokehjs_load.v0+json": ""
     },
     "metadata": {},
     "output_type": "display_data"
    }
   ],
   "source": [
    "# Get the main module:\n",
    "import daschlab\n",
    "\n",
    "# Set up Bokeh plots:\n",
    "from bokeh.io import output_notebook\n",
    "output_notebook()\n",
    "\n",
    "# Get some other imports that will be useful:\n",
    "from astropy import units as u\n",
    "from bokeh.plotting import figure, show\n",
    "import numpy as np\n",
    "from daschlab.lightcurves import AFlags, BFlags\n",
    "from erfa import ErfaWarning"
   ]
  },
  {
   "cell_type": "markdown",
   "id": "aff5bd36-6015-4716-b0be-5bb955191025",
   "metadata": {},
   "source": [
    "---\n",
    "\n",
    "## Set up the session\n",
    "\n",
    "Now we configure our analysis session: where the data are stored, what target we're interested in, and which photometric reference catalog to use.\n",
    "The configuration here is completely standard."
   ]
  },
  {
   "cell_type": "code",
   "execution_count": 2,
   "id": "8ed8b3e3-c916-485e-83a8-7c83d766ccdb",
   "metadata": {},
   "outputs": [
    {
     "name": "stderr",
     "output_type": "stream",
     "text": [
      "WARNING: AstropyDeprecationWarning: Importing ErfaWarning from astropy.utils.exceptions was deprecated in version 6.1 and will stop working in a future version. Instead, please use\n",
      "from erfa import ErfaWarning\n",
      "\n",
      " [astropy.utils.exceptions]\n"
     ]
    },
    {
     "name": "stdout",
     "output_type": "stream",
     "text": [
      "Opened DASCH session at disk location `daschlab_hd_5501`\n",
      "- Query target: `HD 5501`\n",
      "- Refcat: 4462 sources from `apass`\n",
      "- Exposures: 25556 relevant exposures\n"
     ]
    },
    {
     "data": {
      "text/plain": [
       "<daschlab.Session at 0x1a15ed9a0>"
      ]
     },
     "execution_count": 2,
     "metadata": {},
     "output_type": "execute_result"
    }
   ],
   "source": [
    "SOURCE = \"HD 5501\"\n",
    "\n",
    "sess = daschlab.open_session(source=SOURCE)\n",
    "sess.select_target(name=SOURCE)\n",
    "sess.select_refcat(\"apass\")"
   ]
  },
  {
   "cell_type": "markdown",
   "id": "9a2c3937-a8e7-427b-bb4f-a92880b15df6",
   "metadata": {},
   "source": [
    "---\n",
    "\n",
    "## Connect to WWT and display the \"refcat\" sources\n",
    "\n",
    "We can use daschlab's WWT integration to display the catalog sources of interest on the sky.\n",
    "This is always a good first step when digging into the data.\n",
    "\n",
    "#### **Before proceeding, make sure that the WWT JupyterLab app is open** — the [RY Cnc slideshow][slides] shows what to do\n",
    "\n",
    "Once that's done, we can proceed:\n",
    "\n",
    "[slides]: https://dasch.cfa.harvard.edu/drnext/rycnc/#/7"
   ]
  },
  {
   "cell_type": "code",
   "execution_count": null,
   "id": "0059f3c9-22ea-453b-9d31-8cf5cae5d065",
   "metadata": {},
   "outputs": [],
   "source": [
    "await sess.connect_to_wwt()"
   ]
  },
  {
   "cell_type": "code",
   "execution_count": null,
   "id": "df83affa-03a7-495b-a21c-832d9498163d",
   "metadata": {},
   "outputs": [],
   "source": [
    "# Display the reference catalog in WWT\n",
    "sess.refcat().show()"
   ]
  },
  {
   "cell_type": "markdown",
   "id": "7aab4012-9a8f-44ba-bd3a-feabd25553ea",
   "metadata": {},
   "source": [
    "You might notice an astrometric offset between the catalog and basemap imagery. It's an unfortunate feature of the default WWT DSS mosaic. You can fix it by changing the WWT background to **PanSTARRS1 3pi**."
   ]
  },
  {
   "cell_type": "markdown",
   "id": "2a6fbadc-d40c-4a20-8810-4a6317301c64",
   "metadata": {},
   "source": [
    "---\n",
    "\n",
    "## Display a nice sample cutout\n",
    "\n",
    "As usual, a nice next \"warmup\" step is pull up a high-quality DASCH cutout around our target. *daschlab* has \n",
    "builtin functionality to suggest candidates."
   ]
  },
  {
   "cell_type": "code",
   "execution_count": 4,
   "id": "5320e04e",
   "metadata": {},
   "outputs": [
    {
     "data": {
      "text/html": [
       "<div><i>RefcatSources length=8</i>\n",
       "<table id=\"table7035725888\" class=\"table-striped table-bordered table-condensed\">\n",
       "<thead><tr><th>ref_text</th><th>ref_number</th><th>gsc_bin_index</th><th>pos</th><th>dra</th><th>ddec</th><th>u_pm_ra_cosdec</th><th>u_pm_dec</th><th>stdmag</th><th>color</th><th>vFlag</th><th>magFlag</th><th>class</th><th>refcat</th><th>local_id</th></tr></thead>\n",
       "<thead><tr><th></th><th></th><th></th><th>deg,deg</th><th>arcsec</th><th>arcsec</th><th>mas / yr</th><th>mas / yr</th><th>mag</th><th>mag</th><th></th><th></th><th></th><th></th><th></th></tr></thead>\n",
       "<thead><tr><th>str22</th><th>uint64</th><th>uint32</th><th>SkyCoord</th><th>float32</th><th>float32</th><th>float32</th><th>float32</th><th>float32</th><th>float32</th><th>uint16</th><th>uint16</th><th>uint16</th><th>str5</th><th>int64</th></tr></thead>\n",
       "<tr><td>APASS_J005740.6+601417</td><td>400574061601417</td><td>157820990</td><td>14.419165,60.238017</td><td>0.006205</td><td>-0.036156</td><td>nan</td><td>nan</td><td>--</td><td>0.0</td><td>1</td><td>0</td><td>0</td><td>apass</td><td>0</td></tr>\n",
       "<tr><td>N311301057647</td><td>11311301057647</td><td>157820989</td><td>14.409175999999999,60.235086</td><td>17.857555</td><td>10.516164</td><td>nan</td><td>nan</td><td>--</td><td>--</td><td>1</td><td>0</td><td>3</td><td>apass</td><td>1</td></tr>\n",
       "<tr><td>N311301016169</td><td>11311301016169</td><td>157809549</td><td>14.411654,60.23088</td><td>13.430075</td><td>25.657043</td><td>nan</td><td>nan</td><td>15.01</td><td>0.13</td><td>1</td><td>0</td><td>3</td><td>apass</td><td>2</td></tr>\n",
       "<tr><td>N311301015795</td><td>11311301015795</td><td>157820989</td><td>14.408306000000001,60.244134</td><td>19.41068</td><td>-22.05912</td><td>nan</td><td>nan</td><td>18.16</td><td>-2.25</td><td>1</td><td>0</td><td>3</td><td>apass</td><td>3</td></tr>\n",
       "<tr><td>N311301057648</td><td>11311301057648</td><td>157820989</td><td>14.404142000000002,60.24217599999999</td><td>26.85071</td><td>-15.007404</td><td>nan</td><td>nan</td><td>18.15</td><td>0.61</td><td>1</td><td>0</td><td>3</td><td>apass</td><td>4</td></tr>\n",
       "<tr><td>N311301016179</td><td>11311301016179</td><td>157820989</td><td>14.410507999999998,60.246024</td><td>15.474286</td><td>-28.861032</td><td>nan</td><td>nan</td><td>18.76</td><td>0.56</td><td>1</td><td>0</td><td>3</td><td>apass</td><td>5</td></tr>\n",
       "<tr><td>N311301015362</td><td>11311301015362</td><td>157809548</td><td>14.402865000000004,60.23356</td><td>29.13608</td><td>16.007496</td><td>nan</td><td>nan</td><td>16.84</td><td>0.46</td><td>1</td><td>0</td><td>3</td><td>apass</td><td>6</td></tr>\n",
       "<tr><td>N311301016174</td><td>11311301016174</td><td>157820990</td><td>14.438782000000002,60.236360000000005</td><td>-35.050877</td><td>5.93034</td><td>nan</td><td>nan</td><td>17.88</td><td>-0.1</td><td>1</td><td>0</td><td>3</td><td>apass</td><td>7</td></tr>\n",
       "</table></div>"
      ],
      "text/plain": [
       "<RefcatSources length=8>\n",
       "       ref_text           ref_number   gsc_bin_index ... class  refcat local_id\n",
       "                                                     ...                       \n",
       "        str22               uint64         uint32    ... uint16  str5   int64  \n",
       "---------------------- --------------- ------------- ... ------ ------ --------\n",
       "APASS_J005740.6+601417 400574061601417     157820990 ...      0  apass        0\n",
       "         N311301057647  11311301057647     157820989 ...      3  apass        1\n",
       "         N311301016169  11311301016169     157809549 ...      3  apass        2\n",
       "         N311301015795  11311301015795     157820989 ...      3  apass        3\n",
       "         N311301057648  11311301057648     157820989 ...      3  apass        4\n",
       "         N311301016179  11311301016179     157820989 ...      3  apass        5\n",
       "         N311301015362  11311301015362     157809548 ...      3  apass        6\n",
       "         N311301016174  11311301016174     157820990 ...      3  apass        7"
      ]
     },
     "execution_count": 4,
     "metadata": {},
     "output_type": "execute_result"
    }
   ],
   "source": [
    "sess.refcat()[:8]\n"
   ]
  },
  {
   "cell_type": "code",
   "execution_count": 3,
   "id": "fd9cdb39-1047-4fae-be7c-0cdb1a5c57bb",
   "metadata": {},
   "outputs": [
    {
     "data": {
      "text/html": [
       "<div><i>QTable length=8</i>\n",
       "<table id=\"table7035726080\" class=\"table-striped table-bordered table-condensed\">\n",
       "<thead><tr><th>limiting_mag_local</th><th>exp_local_id</th><th>series</th><th>platenum</th><th>fwhm_world</th><th>ellipticity</th><th>background</th></tr></thead>\n",
       "<thead><tr><th>mag</th><th></th><th></th><th></th><th>deg</th><th></th><th></th></tr></thead>\n",
       "<thead><tr><th>float32</th><th>int64</th><th>str3</th><th>uint32</th><th>float32</th><th>float32</th><th>float32</th></tr></thead>\n",
       "<tr><td>16.738603591918945</td><td>20164</td><td>mc</td><td>34382</td><td>0.009233999997377396</td><td>0.153</td><td>3887.375</td></tr>\n",
       "<tr><td>16.69825553894043</td><td>18260</td><td>mc</td><td>32640</td><td>0.01348199974745512</td><td>0.139</td><td>5733.452</td></tr>\n",
       "<tr><td>16.69453239440918</td><td>8717</td><td>mc</td><td>20973</td><td>0.009681000374257565</td><td>0.036</td><td>4135.76</td></tr>\n",
       "<tr><td>16.170740127563477</td><td>7796</td><td>mc</td><td>17744</td><td>0.007124000228941441</td><td>0.1</td><td>4087.22</td></tr>\n",
       "<tr><td>16.0838565826416</td><td>24612</td><td>ma</td><td>10971</td><td>0.0096220001578331</td><td>0.152</td><td>3880.139</td></tr>\n",
       "<tr><td>16.075483322143555</td><td>10322</td><td>mc</td><td>23956</td><td>0.008399000391364098</td><td>0.126</td><td>4756.176</td></tr>\n",
       "<tr><td>15.979093551635742</td><td>17185</td><td>mc</td><td>31604</td><td>0.008976000361144543</td><td>0.077</td><td>3702.825</td></tr>\n",
       "<tr><td>15.95950984954834</td><td>5053</td><td>mc</td><td>4866</td><td>0.005772000178694725</td><td>0.107</td><td>3838.718</td></tr>\n",
       "</table></div>"
      ],
      "text/plain": [
       "<QTable length=8>\n",
       "limiting_mag_local exp_local_id series ... ellipticity background\n",
       "       mag                             ...                       \n",
       "     float32          int64      str3  ...   float32    float32  \n",
       "------------------ ------------ ------ ... ----------- ----------\n",
       "16.738603591918945        20164     mc ...       0.153   3887.375\n",
       " 16.69825553894043        18260     mc ...       0.139   5733.452\n",
       " 16.69453239440918         8717     mc ...       0.036    4135.76\n",
       "16.170740127563477         7796     mc ...         0.1    4087.22\n",
       "  16.0838565826416        24612     ma ...       0.152   3880.139\n",
       "16.075483322143555        10322     mc ...       0.126   4756.176\n",
       "15.979093551635742        17185     mc ...       0.077   3702.825\n",
       " 15.95950984954834         5053     mc ...       0.107   3838.718"
      ]
     },
     "execution_count": 3,
     "metadata": {},
     "output_type": "execute_result"
    }
   ],
   "source": [
    "# Print mini table of candidates\n",
    "sess.exposures().candidate_nice_cutouts()"
   ]
  },
  {
   "cell_type": "code",
   "execution_count": null,
   "id": "ed491028-f58f-4e2b-b8a1-a9c2f500c91c",
   "metadata": {},
   "outputs": [],
   "source": []
  },
  {
   "cell_type": "code",
   "execution_count": 5,
   "id": "ee18b491-d774-482b-855f-db799f34ac18",
   "metadata": {},
   "outputs": [
    {
     "name": "stdout",
     "output_type": "stream",
     "text": [
      "- Querying API ...\n"
     ]
    },
    {
     "name": "stderr",
     "output_type": "stream",
     "text": [
      "warning: failed to fetch cutout for mc34382m0s0: cutout query failed (plate may not be scanned and WCS-solved)\n",
      "error: cannot create a cutout for exposure #20164 (mc34382m0s0) (InteractiveError)\n"
     ]
    }
   ],
   "source": [
    "# This exp_local_id looks good ...\n",
    "sess.exposures().show(20164)"
   ]
  },
  {
   "cell_type": "markdown",
   "id": "7bde450b-8785-4206-a154-57275d101d8b",
   "metadata": {},
   "source": [
    "---\n",
    "\n",
    "## Identify that \"source splitting\" is an issue\n",
    "\n",
    "To analyze the lightcurve of this object, the natural next step is to look at the lightcurve of \"target 0\", the \n",
    "entry in our source catalog that is spatially closest to HD 5501's catalog position:"
   ]
  },
  {
   "cell_type": "code",
   "execution_count": null,
   "id": "75292ad7-598f-4f63-a4bd-cfab073f436d",
   "metadata": {},
   "outputs": [],
   "source": [
    "lc = sess.lightcurve(0)\n",
    "lc.summary()"
   ]
  },
  {
   "cell_type": "markdown",
   "id": "db65fb75-1b35-45f9-993a-9d82df9e6a00",
   "metadata": {},
   "source": [
    "This is immediately suspicious. First of all, HD 5501's B magnitude should be more like 9.0, not 9.9.\n",
    "Second, a star this bright should have thousands of detections, not hundreds.\n",
    "\n",
    "In the DASCH data set, these kinds of things are evidence that [source splitting][ss] is potentially coming into play.\n",
    "\n",
    "[ss]: https://dasch.cfa.harvard.edu/drnext/ki/source-splitting/\n",
    "\n",
    "In order to investigate this, let's summarize the lightcurve for \"target 1\", the catalog entry that is second-closest to our target."
   ]
  },
  {
   "cell_type": "code",
   "execution_count": null,
   "id": "f9cd4717-c34d-4d31-b84f-bde74684aa89",
   "metadata": {},
   "outputs": [],
   "source": [
    "print(type(lc))\n",
    "?daschlab.lightcurves.Lightcurve"
   ]
  },
  {
   "cell_type": "code",
   "execution_count": null,
   "id": "cca1d870-c3fd-4dc6-8733-e3f5eeaaeb9e",
   "metadata": {},
   "outputs": [],
   "source": [
    "import inspect\n",
    "print(inspect.getsourcefile(lc.reject.meteor))\n",
    "print(inspect.getsourcefile(lc.reject.rejected))"
   ]
  },
  {
   "cell_type": "code",
   "execution_count": null,
   "id": "c9f7128d-154e-48fd-b1f9-4a7ffb6e6d71",
   "metadata": {},
   "outputs": [],
   "source": [
    "help(lc.reject.meteor)"
   ]
  },
  {
   "cell_type": "code",
   "execution_count": null,
   "id": "6bc2ad23-7431-4c27-b4bc-319f0be0cd2f",
   "metadata": {},
   "outputs": [],
   "source": [
    "sess.lightcurve(1).summary()"
   ]
  },
  {
   "cell_type": "markdown",
   "id": "6e22ebc6-5c0a-4ba7-9593-4a003218b43b",
   "metadata": {},
   "source": [
    "The mean magnitude is about the same, and once again there are far fewer detections than there should be for\n",
    "a star that is actually this magnitude. This supports the idea that detections of HD 5501 are getting split\n",
    "between different catalog sources.\n",
    "\n",
    "To double-check this, let's print out the catalog information associated with this catalog entry:"
   ]
  },
  {
   "cell_type": "code",
   "execution_count": null,
   "id": "d7d83153-a4e8-47d6-a1e5-a5d62dd2a3be",
   "metadata": {},
   "outputs": [],
   "source": [
    "sess.refcat()[1]"
   ]
  },
  {
   "cell_type": "markdown",
   "id": "171ee95d-bff1-4dc5-9cb0-bff5b1b39c62",
   "metadata": {},
   "source": [
    "The source name (`ref_text`) looks like `N{numbers...}` and the cataloged magnitude (`stdmag`) is undefined, indicating\n",
    "that this is a source outside of APASS added by DASCH's pipeline. If this were truly a 9.5-mag star,\n",
    "it would absolutely be in the catalog already. This is yet more evidence that source-splitting is at play.\n",
    "\n",
    "How about the next source?"
   ]
  },
  {
   "cell_type": "code",
   "execution_count": null,
   "id": "424610cf-e4f9-4bd0-80de-031cfa41b28b",
   "metadata": {},
   "outputs": [],
   "source": [
    "sess.lightcurve(2).summary()"
   ]
  },
  {
   "cell_type": "markdown",
   "id": "821f0426-435f-437b-aea7-1c424dabfb83",
   "metadata": {},
   "source": [
    "This entry has many thousands of detections, and a magnitude much closer to what we expect. It\n",
    "looks like the bulk of the detections got associated with this catalog entry.\n",
    "\n",
    "Let's keep on checking more sources."
   ]
  },
  {
   "cell_type": "code",
   "execution_count": null,
   "id": "2f6ae043-cf99-4755-8180-5fef75707a58",
   "metadata": {},
   "outputs": [],
   "source": [
    "sess.lightcurve(3).summary()"
   ]
  },
  {
   "cell_type": "markdown",
   "id": "f70f7b80-bc86-44e5-b9d6-3187fa6f6fe2",
   "metadata": {},
   "source": [
    "There are fewer detections, but the mean magnitude is still around that of our target.\n",
    "\n",
    "OK, how far are we going to have to go here? It can be helpful to take a look at the reference\n",
    "catalog to get a sense of the characteristics of the sources in question:"
   ]
  },
  {
   "cell_type": "code",
   "execution_count": null,
   "id": "2023e97d-517f-484a-9a34-c43f226eb1f8",
   "metadata": {},
   "outputs": [],
   "source": [
    "# Get the catalog table\n",
    "rc = sess.refcat()\n",
    "\n",
    "# Add a column quantifying the distance between the catalog entry and the star of interest\n",
    "rc[\"sep\"] = sess.query().pos_as_skycoord().separation(rc[\"pos\"]).arcsec\n",
    "\n",
    "# Print out key characteristics of the 20 nearest sources\n",
    "rc[:20][[\"local_id\", \"ref_text\", \"sep\", \"stdmag\"]]"
   ]
  },
  {
   "cell_type": "markdown",
   "id": "5f54983f-87af-40d4-b32d-ed20672ae376",
   "metadata": {},
   "source": [
    "The 17th-nearest catalog source (the one with `local_id = 16`) is finally another official catalog APASS source.\n",
    "As a rough rule of thumb, everything nearer to our target than this is a candidate to have been assigned\n",
    "some detections of HD 5501. Note that HD 5501 itself has a missing catalog magnitude (`stdmag`) — this is\n",
    "probably why the source splitting is so severe here.\n",
    "\n",
    "To visualize the reference catalog better, it helps to increase the `size_vmin` setting of the WorldWide\n",
    "Telescope table display \"layer\". This number controls the relationship between the catalog magnitude\n",
    "(`stdmag`) and circle radius; increasing it causes the faintest sources to be drawn with bigger circles.\n",
    "We can edit this parameter using the WWT table Python object, obtainable by calling `refcat.show()` again:"
   ]
  },
  {
   "cell_type": "code",
   "execution_count": null,
   "id": "acfa6945-299b-40f3-98a7-482d512e82c0",
   "metadata": {},
   "outputs": [],
   "source": [
    "sess.refcat().show().size_vmin += 2"
   ]
  },
  {
   "cell_type": "markdown",
   "id": "d2cdbf03-54ad-4e57-87e4-21c0cc68153f",
   "metadata": {},
   "source": [
    "To keep things tractable, let's just declare that we're only going to look for source-split measurements\n",
    "in the lightcurves of catalog sources that are closer than 40 arcsec to the true source position.\n",
    "Looking at the above table, this means that we'll look at the eleven nearest sources."
   ]
  },
  {
   "cell_type": "code",
   "execution_count": null,
   "id": "765a1287-6f92-418a-ba72-007aa8377e19",
   "metadata": {},
   "outputs": [],
   "source": [
    "N_TO_MERGE = 11"
   ]
  },
  {
   "cell_type": "markdown",
   "id": "f65ee648-027a-42d6-9e50-5572c3216c81",
   "metadata": {},
   "source": [
    "Let's download the data for all of these lightcurves. This will take a while — time to go get a cup of coffee."
   ]
  },
  {
   "cell_type": "code",
   "execution_count": null,
   "id": "54b1064b-4c73-4691-af8b-a6dd6355b193",
   "metadata": {},
   "outputs": [],
   "source": [
    "lcs = [sess.lightcurve(i) for i in range(N_TO_MERGE)]"
   ]
  },
  {
   "cell_type": "markdown",
   "id": "fc462d76-4d19-488a-ad53-872abceeff3b",
   "metadata": {},
   "source": [
    "Let's print out a summary of what we've got:"
   ]
  },
  {
   "cell_type": "code",
   "execution_count": null,
   "id": "0f588073-2fb1-4ff4-9268-37b1b74d7c1e",
   "metadata": {},
   "outputs": [],
   "source": [
    "print('hi Ted')"
   ]
  },
  {
   "cell_type": "code",
   "execution_count": null,
   "id": "7b2466b4-77be-4a61-868f-fe214dc427f7",
   "metadata": {},
   "outputs": [],
   "source": [
    "for i, lc in enumerate(lcs):\n",
    "    print(\"***** lightcurve index\", i)\n",
    "    lc.summary()\n",
    "    print()"
   ]
  },
  {
   "cell_type": "markdown",
   "id": "f71a5afb-fcd6-48ca-a16e-0f9d93937096",
   "metadata": {},
   "source": [
    "This seems like a decent starting point for the merger analysis."
   ]
  },
  {
   "cell_type": "markdown",
   "id": "89af9413-9d2a-4701-a28e-4c6f7906c0e0",
   "metadata": {},
   "source": [
    "---\n",
    "\n",
    "## Merge the lightcurves\n",
    "\n",
    "Before we merge, let's apply standard rejections to all of the individual lightcurves:"
   ]
  },
  {
   "cell_type": "code",
   "execution_count": null,
   "id": "ac391ba3-30ca-489a-8002-35ae4eae015d",
   "metadata": {},
   "outputs": [],
   "source": [
    "for lc in lcs:\n",
    "    lc.apply_standard_rejections()\n",
    "    print()"
   ]
  },
  {
   "cell_type": "markdown",
   "id": "b91fe7ad-c9d4-4d6f-98e5-bc28688a9b24",
   "metadata": {},
   "source": [
    "This flags out a lot of data.\n",
    "\n",
    "We're now ready to merge. We just need to call a library function:"
   ]
  },
  {
   "cell_type": "code",
   "execution_count": null,
   "id": "a1c3e3cc-513f-4e6c-bfbd-b2d3d25b660d",
   "metadata": {},
   "outputs": [],
   "source": [
    "import daschlab.lightcurves\n",
    "\n",
    "# this will take a moment to run:\n",
    "mlc = daschlab.lightcurves.merge(lcs)\n",
    "mlc.summary()\n",
    "print(type(mlc))"
   ]
  },
  {
   "cell_type": "markdown",
   "id": "2d647102-000e-4eed-9f48-4c005eb35733",
   "metadata": {},
   "source": [
    "This looks promising. The mean magnitude is around what it should be, and we have around 2500 non-rejected detections.\n",
    "In comparison, source #2 had around 2000 good detections after applying standard rejections, so by merging we've\n",
    "increased the amount of available data by about 25%.\n",
    "\n",
    "The merge algorithm looks at every detection in every input lightcurve, and groups them by the DASCH exposure where\n",
    "they originated. When source splitting is in play, in most cases there will be exactly one lightcurve with a detection\n",
    "for each exposure — the detection just jumps among sources based on things like small astrometric errors.\n",
    "\n",
    "The resulting lightcurve gains a column named `merge_n_hits` that tells us how many lightcurves had detections for\n",
    "the each exposure. If more than one lightcurve has a hit, the merge algorithm chooses the detection with the\n",
    "magnitude value closest to the mean magnitude, since we can't fully trust the astrometry.\n",
    "\n",
    "Let's make a little histogram of how many lightcurve points have how many hits:"
   ]
  },
  {
   "cell_type": "code",
   "execution_count": null,
   "id": "614fefb6-e5b8-4cf9-8cbd-27c940c768f6",
   "metadata": {},
   "outputs": [],
   "source": [
    "mlc."
   ]
  },
  {
   "cell_type": "code",
   "execution_count": null,
   "id": "0fa46170-c511-4f2d-9913-e8b98eefc8fe",
   "metadata": {},
   "outputs": [],
   "source": [
    "n_hit_counts = {}\n",
    "\n",
    "for row in mlc:\n",
    "    nh = row[\"merge_n_hits\"]\n",
    "    n_hit_counts[nh] = n_hit_counts.get(nh, 0) + 1\n",
    "\n",
    "for n_hits, n_rows in sorted(n_hit_counts.items()):\n",
    "    print(f\"- there were {n_rows:4} rows with {n_hits:4} hits in the source lightcurves\")"
   ]
  },
  {
   "cell_type": "markdown",
   "id": "79f4f43b-f432-4d16-b576-aaf0ebaae7a9",
   "metadata": {},
   "source": [
    "This is very promising. There are only a handful of cases where there was any ambiguity.\n",
    "To be safe, let's reject them:"
   ]
  },
  {
   "cell_type": "code",
   "execution_count": null,
   "id": "31a3528a-c769-47c5-b2bc-040afcd6ad9a",
   "metadata": {},
   "outputs": [],
   "source": [
    "mlc.reject.where(mlc[\"merge_n_hits\"] > 1, tag=\"merge_ambiguity\")"
   ]
  },
  {
   "cell_type": "code",
   "execution_count": null,
   "id": "37b0b225-24ab-49e4-9744-0298dcfc8576",
   "metadata": {},
   "outputs": [],
   "source": [
    "help(daschlab.lightcurves)"
   ]
  },
  {
   "cell_type": "markdown",
   "id": "c5277bef-90c2-4631-a02c-395e534fada5",
   "metadata": {},
   "source": [
    "---\n",
    "\n",
    "## Examine the merged result\n",
    "\n",
    "Enough dilly-dallying, let's look at what we got!"
   ]
  },
  {
   "cell_type": "code",
   "execution_count": null,
   "id": "2eab8235-cdc6-4648-b7cc-f60811d8d262",
   "metadata": {},
   "outputs": [],
   "source": [
    "mlc.plot()"
   ]
  },
  {
   "cell_type": "markdown",
   "id": "137fbeb0-34f7-4c5d-b4ed-2c9507e53219",
   "metadata": {},
   "source": [
    "There are a couple of clearly bogus low points, and also a number of bogus limits. But overall,\n",
    "we appear to have a lot of reasonable-looking measurements.\n",
    "\n",
    "Let's plot the data at the known orbital phase to check how things look."
   ]
  },
  {
   "cell_type": "code",
   "execution_count": null,
   "id": "b6ec6f4d-3115-4280-8175-0385f6a08c70",
   "metadata": {},
   "outputs": [],
   "source": [
    "PERIOD = 7.5352272 # days\n",
    "\n",
    "# The offset here gets the eclipse to show up around ph ~ 0.5:\n",
    "mlc['ph'] = (mlc['time'].jd / PERIOD - 0.4) % 1\n",
    "\n",
    "mlc.plot(x_axis=\"ph\")"
   ]
  },
  {
   "cell_type": "markdown",
   "id": "0a02e02d-5aa2-432b-951f-c7cfe1a088fe",
   "metadata": {},
   "source": [
    "We can definitely see an eclipse there!"
   ]
  },
  {
   "cell_type": "markdown",
   "id": "1062109e-59ca-45fb-8e3b-ef230d052c73",
   "metadata": {},
   "source": [
    "---\n",
    "\n",
    "## Filter data: Incorrect merges\n",
    "\n",
    "The most obvious issue with the merged lightcurve is the very low points. Let's examine one of them, identifying its \"local ID\"\n",
    "by mousing over one of the points in the plot above."
   ]
  },
  {
   "cell_type": "code",
   "execution_count": null,
   "id": "ef36d0cc-6726-4b88-a43f-b28c80c8048c",
   "metadata": {},
   "outputs": [],
   "source": [
    "type(mlc)"
   ]
  },
  {
   "cell_type": "code",
   "execution_count": null,
   "id": "6e96d87c-9e72-430d-9b5e-1dbe6b3a34f4",
   "metadata": {},
   "outputs": [],
   "source": []
  },
  {
   "cell_type": "markdown",
   "id": "8d1d0c1a-e2c5-4ef1-8397-962a3cb97f58",
   "metadata": {},
   "source": [
    "At the far right of the table row printout, there is a column called `source_lc_index` identifying which\n",
    "source lightcurve this row came from. You should see that these rows all come from source curve #8.\n",
    "You might have noticed above that the `stdmag` for this catalog source is *relatively* bright:"
   ]
  },
  {
   "cell_type": "code",
   "execution_count": null,
   "id": "94ddf0d7-0b3f-46c9-aa1e-a501e5d60018",
   "metadata": {},
   "outputs": [],
   "source": [
    "sess.refcat()[8][\"stdmag\"]"
   ]
  },
  {
   "cell_type": "markdown",
   "id": "4a2c139a-afc3-4201-a8fe-f75c39d0b752",
   "metadata": {},
   "source": [
    "This is, in fact, in the ballpark of the detections that we're getting. So these are clearly mis-identifications\n",
    "in our lightcurve. We can flag them:"
   ]
  },
  {
   "cell_type": "code",
   "execution_count": null,
   "id": "e373cd0f-d36f-45f7-a79c-a033f28fc068",
   "metadata": {},
   "outputs": [],
   "source": [
    "mlc.summary()"
   ]
  },
  {
   "cell_type": "code",
   "execution_count": null,
   "id": "5bdff246-ef03-4f3c-bab4-ec7571b855e8",
   "metadata": {},
   "outputs": [],
   "source": [
    "#mlc.reject.rejected(tag=\"merge_error\")\n",
    "mlc."
   ]
  },
  {
   "cell_type": "code",
   "execution_count": null,
   "id": "5092a974-2bbf-4069-8afe-bddfe8f51c78",
   "metadata": {},
   "outputs": [],
   "source": [
    "# This is an example of plotting one histogram atop another....\n",
    "\n",
    "import matplotlib.pyplot as plt\n",
    "import numpy as np\n",
    "\n",
    "# Generate some data\n",
    "data1 = np.random.normal(0, 1, 1000)\n",
    "data2 = np.random.normal(2, 1, 1000)\n",
    "\n",
    "# Create the figure and axes\n",
    "fig, ax = plt.subplots()\n",
    "\n",
    "# Plot the first histogram\n",
    "ax.hist(data1, bins=30, alpha=0.5, label='Data 1')\n",
    "\n",
    "# Plot the second histogram on top\n",
    "ax.hist(data2, bins=30, alpha=0.5, label='Data 2')\n",
    "\n",
    "# Add a legend\n",
    "plt.legend()\n",
    "\n",
    "# Show the plot\n",
    "plt.show()"
   ]
  },
  {
   "cell_type": "code",
   "execution_count": null,
   "id": "3d7be733-de75-4748-a69c-65e401e18e15",
   "metadata": {},
   "outputs": [],
   "source": [
    "mlc.reject.where(\n",
    "    (mlc[\"source_lc_index\"] == 8) & (mlc[\"magcal_magdep\"] > 13 * u.mag), \n",
    "    tag=\"merge_error\"\n",
    ")"
   ]
  },
  {
   "cell_type": "markdown",
   "id": "8a77cf9b-ba0f-4c26-bc0f-4ddd09375025",
   "metadata": {},
   "source": [
    "We also clearly have a lot of spurious upper limits. For certain science applications, you might need to dig\n",
    "into those and understand where there coming from. Here, we just want a nice phase plot, so let's just throw\n",
    "them away:"
   ]
  },
  {
   "cell_type": "code",
   "execution_count": null,
   "id": "017a6b78-6a6d-4370-a3da-aa19d9565b53",
   "metadata": {},
   "outputs": [],
   "source": [
    "mlc.summary()"
   ]
  },
  {
   "cell_type": "code",
   "execution_count": null,
   "id": "2145bb69-9354-4e84-81f6-f95b49d6056d",
   "metadata": {},
   "outputs": [],
   "source": [
    "mlc.reject_unless.detected(tag=\"ignore_limits\")"
   ]
  },
  {
   "cell_type": "code",
   "execution_count": null,
   "id": "0533fd8e-02e9-4a69-8df0-82cb019467b3",
   "metadata": {},
   "outputs": [],
   "source": [
    "mlc.summary()"
   ]
  },
  {
   "cell_type": "code",
   "execution_count": null,
   "id": "1e0bd939-b20a-4056-b7b5-98c1af22fbb9",
   "metadata": {},
   "outputs": [],
   "source": [
    "?mlc.reject_unless.detected"
   ]
  },
  {
   "cell_type": "code",
   "execution_count": null,
   "id": "ef85941a-02ee-44b9-8626-f1e7feb98c18",
   "metadata": {},
   "outputs": [],
   "source": [
    "# How do things look now?\n",
    "mlc.plot(x_axis=\"ph\")"
   ]
  },
  {
   "cell_type": "markdown",
   "id": "846155f8-76cd-442a-be27-acfb0aec6ca7",
   "metadata": {},
   "source": [
    "There's clearly more flagging that could be done, but this tutorial will stop here."
   ]
  },
  {
   "cell_type": "code",
   "execution_count": null,
   "id": "7a7e0d2b-46be-472a-8f28-2e2ff8a19e04",
   "metadata": {},
   "outputs": [],
   "source": [
    "mlc[111:133]"
   ]
  },
  {
   "cell_type": "code",
   "execution_count": null,
   "id": "7ae7733c-f4d8-42b4-bb66-a3ce8845253e",
   "metadata": {},
   "outputs": [],
   "source": []
  }
 ],
 "metadata": {
  "kernelspec": {
   "display_name": "Python 3",
   "language": "python",
   "name": "python3"
  },
  "language_info": {
   "codemirror_mode": {
    "name": "ipython",
    "version": 3
   },
   "file_extension": ".py",
   "mimetype": "text/x-python",
   "name": "python",
   "nbconvert_exporter": "python",
   "pygments_lexer": "ipython3",
   "version": "3.12.7"
  }
 },
 "nbformat": 4,
 "nbformat_minor": 5
}
